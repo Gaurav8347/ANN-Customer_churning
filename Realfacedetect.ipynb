{
  "nbformat": 4,
  "nbformat_minor": 0,
  "metadata": {
    "colab": {
      "name": "Realfacedetect.ipynb",
      "provenance": [],
      "authorship_tag": "ABX9TyNhrhoX2c0OhLgkOd47hDSy",
      "include_colab_link": true
    },
    "kernelspec": {
      "name": "python3",
      "display_name": "Python 3"
    }
  },
  "cells": [
    {
      "cell_type": "markdown",
      "metadata": {
        "id": "view-in-github",
        "colab_type": "text"
      },
      "source": [
        "<a href=\"https://colab.research.google.com/github/Gaurav8347/ANN-Customer_churning/blob/master/Realfacedetect.ipynb\" target=\"_parent\"><img src=\"https://colab.research.google.com/assets/colab-badge.svg\" alt=\"Open In Colab\"/></a>"
      ]
    },
    {
      "cell_type": "markdown",
      "metadata": {
        "id": "fcuHE9Xa1nla",
        "colab_type": "text"
      },
      "source": [
        "Face & Eye Detection using HAAR Cascade Classifiers"
      ]
    },
    {
      "cell_type": "code",
      "metadata": {
        "id": "2vNX2I_1wUch",
        "colab_type": "code",
        "colab": {}
      },
      "source": [
        "import numpy as np\n",
        "import cv2\n",
        "\n",
        "# We point OpenCV's CascadeClassifier function to where our \n",
        "# classifier (XML file format) is stored\n",
        "face_classifier = cv2.CascadeClassifier('Haarcascades/haarcascade_frontalface_default.xml')\n",
        "\n",
        "# Load our image then convert it to grayscale\n",
        "image = cv2.imread('image_examples/Modi.jpg')\n",
        "gray = cv2.cvtColor(image, cv2.COLOR_BGR2GRAY)\n",
        "\n",
        "# Our classifier returns the ROI of the detected face as a tuple\n",
        "# It stores the top left coordinate and the bottom right coordiantes\n",
        "faces = face_classifier.detectMultiScale(gray, 1.3, 5)\n",
        "\n",
        "# When no faces detected, face_classifier returns and empty tuple\n",
        "if faces is ():\n",
        "    print(\"No faces found\")\n",
        "\n",
        "# We iterate through our faces array and draw a rectangle\n",
        "# over each face in faces\n",
        "for (x,y,w,h) in faces:\n",
        "    cv2.rectangle(image, (x,y), (x+w,y+h), (127,0,255), 2)\n",
        "    cv2.imshow('Face Detection', image)\n",
        "    cv2.waitKey(0)\n",
        "    \n",
        "cv2.destroyAllWindows()"
      ],
      "execution_count": 1,
      "outputs": []
    },
    {
      "cell_type": "markdown",
      "metadata": {
        "id": "LyjdxiYI1z5b",
        "colab_type": "text"
      },
      "source": [
        "Let's combine face and eye detection¶"
      ]
    },
    {
      "cell_type": "code",
      "metadata": {
        "id": "jiullO5B01OU",
        "colab_type": "code",
        "colab": {}
      },
      "source": [
        "import numpy as np\n",
        "import cv2\n",
        " \n",
        "face_classifier = cv2.CascadeClassifier('Haarcascades/haarcascade_frontalface_default.xml')\n",
        "eye_classifier = cv2.CascadeClassifier('Haarcascades/haarcascade_eye.xml')\n",
        " \n",
        "img = cv2.imread('image_examples/Modi.jpg')\n",
        "gray = cv2.cvtColor(img, cv2.COLOR_BGR2GRAY)\n",
        "\n",
        "faces = face_classifier.detectMultiScale(gray, 1.3, 5)\n",
        "\n",
        "# When no faces detected, face_classifier returns and empty tuple\n",
        "if faces is ():\n",
        "    print(\"No Face Found\")\n",
        "\n",
        "for (x,y,w,h) in faces:\n",
        "    cv2.rectangle(img,(x,y),(x+w,y+h),(127,0,255),2)\n",
        "    cv2.imshow('img',img)\n",
        "    cv2.waitKey(0)\n",
        "    roi_gray = gray[y:y+h, x:x+w]\n",
        "    roi_color = img[y:y+h, x:x+w]\n",
        "    eyes = eye_classifier.detectMultiScale(roi_gray)\n",
        "    for (ex,ey,ew,eh) in eyes:\n",
        "        cv2.rectangle(roi_color,(ex,ey),(ex+ew,ey+eh),(255,255,0),2)\n",
        "        cv2.imshow('img',img)\n",
        "        cv2.waitKey(0)\n",
        "    \n",
        "cv2.destroyAllWindows()"
      ],
      "execution_count": null,
      "outputs": []
    },
    {
      "cell_type": "markdown",
      "metadata": {
        "id": "RuF_d_DK178Z",
        "colab_type": "text"
      },
      "source": [
        "Let's make a live face & eye detection, keeping the face inview at all times"
      ]
    },
    {
      "cell_type": "code",
      "metadata": {
        "id": "drUbw_T_1-8_",
        "colab_type": "code",
        "colab": {}
      },
      "source": [
        "import cv2\n",
        "import numpy as np\n",
        "\n",
        "face_classifier = cv2.CascadeClassifier('Haarcascades/haarcascade_frontalface_default.xml')\n",
        "eye_classifier = cv2.CascadeClassifier('Haarcascades/haarcascade_eye.xml')\n",
        "\n",
        "def face_detector(img, size=0.5):\n",
        "    # Convert image to grayscale\n",
        "    gray = cv2.cvtColor(img,cv2.COLOR_BGR2GRAY)\n",
        "    faces = face_classifier.detectMultiScale(gray, 1.3, 5)\n",
        "    if faces is ():\n",
        "        return img\n",
        "    \n",
        "    for (x,y,w,h) in faces:\n",
        "        x = x - 50\n",
        "        w = w + 50\n",
        "        y = y - 50\n",
        "        h = h + 50\n",
        "        cv2.rectangle(img,(x,y),(x+w,y+h),(255,0,0),2)\n",
        "        roi_gray = gray[y:y+h, x:x+w]\n",
        "        roi_color = img[y:y+h, x:x+w]\n",
        "        eyes = eye_classifier.detectMultiScale(roi_gray)\n",
        "        \n",
        "        for (ex,ey,ew,eh) in eyes:\n",
        "            cv2.rectangle(roi_color,(ex,ey),(ex+ew,ey+eh),(0,0,255),2) \n",
        "            \n",
        "    roi_color = cv2.flip(roi_color,1)\n",
        "    return roi_color\n",
        "\n",
        "cap = cv2.VideoCapture(0)\n",
        "\n",
        "while True:\n",
        "\n",
        "    ret, frame = cap.read()\n",
        "    cv2.imshow('Our Face Extractor', face_detector(frame))\n",
        "    if cv2.waitKey(1) == 13: #13 is the Enter Key\n",
        "        break\n",
        "        \n",
        "cap.release()\n",
        "cv2.destroyAllWindows()      "
      ],
      "execution_count": null,
      "outputs": []
    }
  ]
}